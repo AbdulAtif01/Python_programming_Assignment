{
 "cells": [
  {
   "cell_type": "markdown",
   "id": "1af18916",
   "metadata": {},
   "source": [
    "# Assignment 10\n",
    "1.Write a Python Program to find sum of elements in a list ?\n"
   ]
  },
  {
   "cell_type": "code",
   "execution_count": 2,
   "id": "937cf9c4",
   "metadata": {},
   "outputs": [
    {
     "name": "stdout",
     "output_type": "stream",
     "text": [
      "Enter the No of Entries in a List: 5\n",
      "Enter a element: 6\n",
      "Enter a element: 4\n",
      "Enter a element: 5\n",
      "Enter a element: 64\n",
      "Enter a element: 4\n",
      "Sum of Elements: 83\n"
     ]
    }
   ],
   "source": [
    "def sumofList():\n",
    "    in_ele = int(input('Enter the No of Entries in a List: '))\n",
    "    in_list = []\n",
    "    for itr in range(in_ele):\n",
    "        in_list.append(int(input('Enter a element: ')))\n",
    "    print(f'Sum of Elements: {sum(in_list)}')\n",
    "\n",
    "sumofList()"
   ]
  },
  {
   "cell_type": "markdown",
   "id": "cce0dd68",
   "metadata": {},
   "source": [
    "2.Write a Python Program to multiply all numbers in the list ?\n",
    "\n",
    "\n"
   ]
  },
  {
   "cell_type": "code",
   "execution_count": 3,
   "id": "0da392f7",
   "metadata": {},
   "outputs": [
    {
     "name": "stdout",
     "output_type": "stream",
     "text": [
      "Enter the No of Entries in a List: 5\n",
      "Enter a element: 1\n",
      "Enter a element: 4\n",
      "Enter a element: 5\n",
      "Enter a element: 6\n",
      "Enter a element: 7\n",
      "840\n"
     ]
    }
   ],
   "source": [
    "def mulofList():\n",
    "    in_ele = int(input('Enter the No of Entries in a List: '))\n",
    "    in_list = []\n",
    "    mul = 1\n",
    "    for itr in range(in_ele):\n",
    "        in_list.append(int(input('Enter a element: ')))\n",
    "    for ele in in_list:\n",
    "        mul = mul * ele\n",
    "    print(mul)\n",
    "\n",
    "mulofList()"
   ]
  },
  {
   "cell_type": "markdown",
   "id": "485dacc1",
   "metadata": {},
   "source": [
    "3.Write a Python Program to find smallest number in the list ?\n"
   ]
  },
  {
   "cell_type": "code",
   "execution_count": 4,
   "id": "0536bd18",
   "metadata": {},
   "outputs": [
    {
     "name": "stdout",
     "output_type": "stream",
     "text": [
      "Enter the No of elements in a list: 3\n",
      "Enter a Element: 1\n",
      "Enter a Element: 5\n",
      "Enter a Element: 88\n",
      "The Smallest Element in [1, 5, 88] is 1\n"
     ]
    }
   ],
   "source": [
    "def smallEleInList():\n",
    "    in_ele = int(input('Enter the No of elements in a list: '))\n",
    "    in_list = []\n",
    "    for ele in range(in_ele):\n",
    "        in_list.append(int(input('Enter a Element: ')))\n",
    "    print(f'The Smallest Element in {in_list} is {sorted(in_list)[0]}')\n",
    "smallEleInList()"
   ]
  },
  {
   "cell_type": "markdown",
   "id": "63b7642b",
   "metadata": {},
   "source": [
    "4.Write a Python Program to find largest number in the list ?\n"
   ]
  },
  {
   "cell_type": "code",
   "execution_count": 5,
   "id": "3073444f",
   "metadata": {},
   "outputs": [
    {
     "name": "stdout",
     "output_type": "stream",
     "text": [
      "Enter the No of elements in a list: 3\n",
      "Enter a Element: 7\n",
      "Enter a Element: 9\n",
      "Enter a Element: 5\n",
      "The Largest Element in [7, 9, 5] is 9\n"
     ]
    }
   ],
   "source": [
    "def largestEleInList():\n",
    "    in_ele = int(input('Enter the No of elements in a list: '))\n",
    "    in_list = []\n",
    "    for ele in range(in_ele):\n",
    "        in_list.append(int(input('Enter a Element: ')))\n",
    "    print(f'The Largest Element in {in_list} is {sorted(in_list, reverse=True)[0]}')\n",
    "\n",
    "largestEleInList()"
   ]
  },
  {
   "cell_type": "markdown",
   "id": "f2d988aa",
   "metadata": {},
   "source": [
    "6.Write a Python Program to find N largest elements in the list ?\n"
   ]
  },
  {
   "cell_type": "code",
   "execution_count": 7,
   "id": "5e3b2f7c",
   "metadata": {},
   "outputs": [
    {
     "name": "stdout",
     "output_type": "stream",
     "text": [
      "Enter the No of elements in a list: 4\n",
      "Enter a Element: 2\n",
      "Enter a Element: 5\n",
      "Enter a Element: 5\n",
      "Enter a Element: 6\n",
      "The 4 Largest Element in [2, 5, 5, 6] is [6, 5, 5, 2]\n"
     ]
    }
   ],
   "source": [
    "def nLargestEleInList(k):\n",
    "    in_ele = int(input('Enter the No of elements in a list: '))\n",
    "    in_list = []\n",
    "    for ele in range(in_ele):\n",
    "        in_list.append(int(input('Enter a Element: ')))\n",
    "    print(f'The {k} Largest Element in {in_list} is {sorted(in_list, reverse=True)[0:k]}')\n",
    "\n",
    "nLargestEleInList(4)"
   ]
  },
  {
   "cell_type": "markdown",
   "id": "f6e60e9f",
   "metadata": {},
   "source": [
    "7.Write a Python Program to find even numbers in the list ?\n"
   ]
  },
  {
   "cell_type": "code",
   "execution_count": 8,
   "id": "9884fd42",
   "metadata": {},
   "outputs": [
    {
     "name": "stdout",
     "output_type": "stream",
     "text": [
      "Enter the No of elements in a list: 4\n",
      "Enter a Element: 5\n",
      "Enter a Element: 6\n",
      "Enter a Element: 8\n",
      "Enter a Element: 7\n",
      "The Even Elements in [5, 6, 8, 7] are [6, 8]\n"
     ]
    }
   ],
   "source": [
    "def evenNoInList():\n",
    "    in_ele = int(input('Enter the No of elements in a list: '))\n",
    "    in_list = []\n",
    "    even_list = []\n",
    "    for ele in range(in_ele):\n",
    "        in_list.append(int(input('Enter a Element: ')))\n",
    "    for ele in in_list:\n",
    "        if ele%2 == 0:\n",
    "            even_list.append(ele)\n",
    "    print(f'The Even Elements in {in_list} are {even_list}')\n",
    "\n",
    "evenNoInList()"
   ]
  },
  {
   "cell_type": "markdown",
   "id": "b3250f31",
   "metadata": {},
   "source": [
    "8.Write a Python Program to find odd numbers in the list ?\n"
   ]
  },
  {
   "cell_type": "code",
   "execution_count": 9,
   "id": "51127a0d",
   "metadata": {},
   "outputs": [
    {
     "name": "stdout",
     "output_type": "stream",
     "text": [
      "Enter the No of elements in a list: 4\n",
      "Enter a Element: 2\n",
      "Enter a Element: 5\n",
      "Enter a Element: 8\n",
      "Enter a Element: 9\n",
      "The Even Elements in [2, 5, 8, 9] are [5, 9]\n"
     ]
    }
   ],
   "source": [
    "def oddNoInList():\n",
    "    in_ele = int(input('Enter the No of elements in a list: '))\n",
    "    in_list = []\n",
    "    odd_list = []\n",
    "    for ele in range(in_ele):\n",
    "        in_list.append(int(input('Enter a Element: ')))\n",
    "    for ele in in_list:\n",
    "        if ele%2 != 0:\n",
    "            odd_list.append(ele)\n",
    "    print(f'The Even Elements in {in_list} are {odd_list}')\n",
    "\n",
    "oddNoInList()"
   ]
  },
  {
   "cell_type": "markdown",
   "id": "0e6be126",
   "metadata": {},
   "source": [
    "9.Write a Python Program to remove empty list from list ?\n"
   ]
  },
  {
   "cell_type": "code",
   "execution_count": 10,
   "id": "60c9af9c",
   "metadata": {},
   "outputs": [
    {
     "name": "stdout",
     "output_type": "stream",
     "text": [
      "Enter all elements of the list: [1,2,3,4,5,6]\n",
      "There is no [] List in the list [1, 2, 3, 4, 5, 6]\n"
     ]
    }
   ],
   "source": [
    "def checkEmptyList():\n",
    "    in_list = eval(input('Enter all elements of the list: '))\n",
    "    if [] in in_list:\n",
    "        print(f'There is an Empty list in {in_list} at Position {in_list.index([])}')\n",
    "        in_list.remove([])\n",
    "        print(f'The List after removing [] is {in_list}')\n",
    "    else:\n",
    "        print(f'There is no [] List in the list {in_list}')\n",
    "        \n",
    "checkEmptyList()"
   ]
  },
  {
   "cell_type": "markdown",
   "id": "7fdaf0c2",
   "metadata": {},
   "source": [
    "10.Write a Python Program to Cloning or Copying a list ?\n"
   ]
  },
  {
   "cell_type": "code",
   "execution_count": 14,
   "id": "0088504c",
   "metadata": {},
   "outputs": [
    {
     "name": "stdout",
     "output_type": "stream",
     "text": [
      "Enter a list[12,4,5,6,7,9]\n",
      "[12, 4, 5, 6, 7, 9] 1425499633152\n"
     ]
    }
   ],
   "source": [
    "import copy\n",
    "\n",
    "def cloneList():\n",
    "    in_list = eval(input('Enter a list'))\n",
    "    print(in_list, id(in_list))\n",
    "    cloned_list = in_list.copy()\n",
    "    \n",
    "\n",
    "cloneList()"
   ]
  },
  {
   "cell_type": "markdown",
   "id": "e2159369",
   "metadata": {},
   "source": [
    "11.Write a Python Program to count occurences of an element in a list ?\n"
   ]
  },
  {
   "cell_type": "code",
   "execution_count": 15,
   "id": "08f1ba36",
   "metadata": {},
   "outputs": [
    {
     "name": "stdout",
     "output_type": "stream",
     "text": [
      "Enter the elements of the list: [1,2,3,4,5,6,7,8,9]\n",
      "Enter the element to find: 9\n",
      "There are 1 occurences of 9 in [1, 2, 3, 4, 5, 6, 7, 8, 9]\n"
     ]
    }
   ],
   "source": [
    "def checkOccurence():\n",
    "    in_list = eval(input('Enter the elements of the list: '))\n",
    "    in_num = eval(input('Enter the element to find: '))\n",
    "    count = 0\n",
    "    if in_num in in_list:\n",
    "        for ele in in_list:\n",
    "            if ele == in_num:\n",
    "                count = count+1\n",
    "    print(f'There are {count} occurences of {in_num} in {in_list}')\n",
    "checkOccurence()"
   ]
  },
  {
   "cell_type": "code",
   "execution_count": null,
   "id": "9ca04ee1",
   "metadata": {},
   "outputs": [],
   "source": []
  }
 ],
 "metadata": {
  "kernelspec": {
   "display_name": "Python 3 (ipykernel)",
   "language": "python",
   "name": "python3"
  },
  "language_info": {
   "codemirror_mode": {
    "name": "ipython",
    "version": 3
   },
   "file_extension": ".py",
   "mimetype": "text/x-python",
   "name": "python",
   "nbconvert_exporter": "python",
   "pygments_lexer": "ipython3",
   "version": "3.9.12"
  }
 },
 "nbformat": 4,
 "nbformat_minor": 5
}
