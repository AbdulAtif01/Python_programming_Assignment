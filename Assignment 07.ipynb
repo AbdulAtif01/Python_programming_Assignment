{
 "cells": [
  {
   "cell_type": "markdown",
   "id": "e5d3562d",
   "metadata": {},
   "source": [
    "# Assignment 07\n",
    "1. Write a Python Program to find sum of Array ?\n"
   ]
  },
  {
   "cell_type": "code",
   "execution_count": 1,
   "id": "2a4ac38f",
   "metadata": {},
   "outputs": [
    {
     "name": "stdout",
     "output_type": "stream",
     "text": [
      "Enter the Array: 1,2,3,4,5,6\n",
      "The sum of (1, 2, 3, 4, 5, 6) is 21\n"
     ]
    }
   ],
   "source": [
    "def sumOfArray():\n",
    "    in_arr = eval(input(\"Enter the Array: \"))\n",
    "    print(f'The sum of {in_arr} is {sum(in_arr)}')\n",
    "\n",
    "sumOfArray()"
   ]
  },
  {
   "cell_type": "markdown",
   "id": "bccb533d",
   "metadata": {},
   "source": [
    "2. Write a Python Program to find Largest element in an Array ?\n"
   ]
  },
  {
   "cell_type": "code",
   "execution_count": 2,
   "id": "bbac7cc4",
   "metadata": {},
   "outputs": [
    {
     "name": "stdout",
     "output_type": "stream",
     "text": [
      "Enter the Array: 1,4,9,8,7,6\n",
      "The Largest Element in (1, 4, 9, 8, 7, 6) is 9\n"
     ]
    }
   ],
   "source": [
    "def largestElement():\n",
    "    in_arr = eval(input(\"Enter the Array: \"))\n",
    "    print(f\"The Largest Element in {in_arr} is {sorted(in_arr, reverse=True)[0]}\")\n",
    "    \n",
    "largestElement()"
   ]
  },
  {
   "cell_type": "markdown",
   "id": "548033e7",
   "metadata": {},
   "source": [
    "3. Write a Python Program for array rotation ?\n"
   ]
  },
  {
   "cell_type": "code",
   "execution_count": 3,
   "id": "f17004e0",
   "metadata": {},
   "outputs": [
    {
     "name": "stdout",
     "output_type": "stream",
     "text": [
      "Enter the Array: 20,34,25,4\n",
      "The Reverse of Array (20, 34, 25, 4) is (4, 25, 34, 20)\n"
     ]
    }
   ],
   "source": [
    "def reverseOfArray():\n",
    "    in_arr = eval(input(\"Enter the Array: \"))\n",
    "    print(f\"The Reverse of Array {in_arr} is {in_arr[::-1]}\")\n",
    "    \n",
    "reverseOfArray()"
   ]
  },
  {
   "cell_type": "markdown",
   "id": "2a482270",
   "metadata": {},
   "source": [
    "4. Write a Python Program to Split the array and add the first part to the end ?\n"
   ]
  },
  {
   "cell_type": "code",
   "execution_count": 4,
   "id": "863cd266",
   "metadata": {},
   "outputs": [
    {
     "name": "stdout",
     "output_type": "stream",
     "text": [
      "Enter the Array: 1,2,4,5,7,8,99\n",
      "The Sum of First and Last Elements of Array (1, 2, 4, 5, 7, 8, 99) is 100\n"
     ]
    }
   ],
   "source": [
    "def sumOfSplits():\n",
    "    in_arr = eval(input(\"Enter the Array: \"))\n",
    "    print(f\"The Sum of First and Last Elements of Array {in_arr} is {in_arr[0]+in_arr[-1]}\")\n",
    "    \n",
    "sumOfSplits()"
   ]
  },
  {
   "cell_type": "markdown",
   "id": "d874ff63",
   "metadata": {},
   "source": [
    "5. Write a Python Program to check if given array is Monotonic ?\n"
   ]
  },
  {
   "cell_type": "code",
   "execution_count": 5,
   "id": "cf1b3ae4",
   "metadata": {},
   "outputs": [
    {
     "name": "stdout",
     "output_type": "stream",
     "text": [
      "Enter the Array: 1,5,4,7,8,6,2,4,56,22\n",
      "Array (1, 5, 4, 7, 8, 6, 2, 4, 56, 22) is Not Monotonic\n",
      "Enter the Array: 1,2,3,4,5,6\n",
      "Array (1, 2, 3, 4, 5, 6) is Monotonic\n"
     ]
    }
   ],
   "source": [
    "def checkMonotonic():\n",
    "    in_arr = eval(input(\"Enter the Array: \"))\n",
    "    if(all(in_arr[i]<=in_arr[i+1] for i in range(len(in_arr)-1)) or all(in_arr[i]>=in_arr[i+1] for i in range(len(in_arr)-1))):\n",
    "        print(f'Array {in_arr} is Monotonic')\n",
    "    else:\n",
    "        print(f'Array {in_arr} is Not Monotonic')\n",
    "\n",
    "checkMonotonic()\n",
    "checkMonotonic()"
   ]
  },
  {
   "cell_type": "code",
   "execution_count": null,
   "id": "3177d285",
   "metadata": {},
   "outputs": [],
   "source": []
  }
 ],
 "metadata": {
  "kernelspec": {
   "display_name": "Python 3 (ipykernel)",
   "language": "python",
   "name": "python3"
  },
  "language_info": {
   "codemirror_mode": {
    "name": "ipython",
    "version": 3
   },
   "file_extension": ".py",
   "mimetype": "text/x-python",
   "name": "python",
   "nbconvert_exporter": "python",
   "pygments_lexer": "ipython3",
   "version": "3.9.12"
  }
 },
 "nbformat": 4,
 "nbformat_minor": 5
}
